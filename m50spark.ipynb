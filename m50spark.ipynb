{
 "cells": [
  {
   "cell_type": "markdown",
   "metadata": {},
   "source": [
    "In this project, the batch layer of the lamda architecture is prepared using Apache Spark's Dataframe and basic analytics performed on the M50 road network dataset"
   ]
  },
  {
   "cell_type": "code",
   "execution_count": 3,
   "metadata": {},
   "outputs": [],
   "source": [
    " \n",
    "import pyspark\n",
    "from pyspark.sql import SparkSession\n",
    "import pyspark.sql.functions as F\n",
    "from pyspark.sql.functions import col\n",
    "spark = SparkSession.builder.appName(\"Assignment\").getOrCreate()"
   ]
  },
  {
   "cell_type": "code",
   "execution_count": 4,
   "metadata": {},
   "outputs": [],
   "source": [
    "#Reading Data from CSV\n",
    "df = spark.read.options(header='True', inferSchema='True')\\\n",
    ".csv(\"hdfs://master-node:9000/assignment/per-vehicle-records-2021-01-31.csv\")"
   ]
  },
  {
   "cell_type": "code",
   "execution_count": 5,
   "metadata": {},
   "outputs": [
    {
     "name": "stdout",
     "output_type": "stream",
     "text": [
      "+-----+----+-----+---+----+------+------+-----------+-----------+----+--------+------------+----------------+-----+---------+------+-------+----+-----+------+-----------+--------+------------+-------------+-----------+------------+\n",
      "|cosit|year|month|day|hour|minute|second|millisecond|minuteofday|lane|lanename|straddlelane|straddlelanename|class|classname|length|headway| gap|speed|weight|temperature|duration|validitycode|numberofaxles|axleweights|axlespacings|\n",
      "+-----+----+-----+---+----+------+------+-----------+-----------+----+--------+------------+----------------+-----+---------+------+-------+----+-----+------+-----------+--------+------------+-------------+-----------+------------+\n",
      "|  998|2021|    1| 31|   2|    45|     0|          0|        165|   2|    Ch 2|           0|            null|    2|      CAR|   5.2|   1.07|1.13| 71.0|   0.0|        0.0|       0|           0|            0|       null|        null|\n",
      "|  998|2021|    1| 31|   2|    45|     1|          0|        165|   2|    Ch 2|           0|            null|    5|  HGV_RIG|  11.1|    1.1|1.34| 69.0|   0.0|        0.0|       0|           0|            0|       null|        null|\n",
      "|  998|2021|    1| 31|   2|    45|     1|          0|        165|   1|    Ch 1|           0|            null|    5|  HGV_RIG|  11.1|   1.17|1.11| 69.0|   0.0|        0.0|       0|           0|            0|       null|        null|\n",
      "|  998|2021|    1| 31|   2|    45|     2|          0|        165|   1|    Ch 1|           0|            null|    2|      CAR|   5.3|    1.0|0.72| 70.0|   0.0|        0.0|       0|           0|            0|       null|        null|\n",
      "|  998|2021|    1| 31|   2|    45|     3|          0|        165|   2|    Ch 2|           0|            null|    3|      LGV|   5.3|   1.01|0.72| 71.0|   0.0|        0.0|       0|           0|            0|       null|        null|\n",
      "|  998|2021|    1| 31|   2|    45|     4|          0|        165|   1|    Ch 1|           0|            null|    2|      CAR|   5.2|   1.62|1.63| 70.0|   0.0|        0.0|       0|           0|            0|       null|        null|\n",
      "|  998|2021|    1| 31|   2|    45|     5|          0|        165|   2|    Ch 2|           0|            null|    3|      LGV|   5.2|   1.64|1.63| 69.0|   0.0|        0.0|       0|           0|            0|       null|        null|\n",
      "|  998|2021|    1| 31|   2|    45|     6|          0|        165|   1|    Ch 1|           0|            null|    5|  HGV_RIG|  11.4|   1.13|1.53| 70.0|   0.0|        0.0|       0|           0|            0|       null|        null|\n",
      "|  998|2021|    1| 31|   2|    45|     7|          0|        165|   2|    Ch 2|           0|            null|    5|  HGV_RIG|  11.4|   1.39|1.83| 71.0|   0.0|        0.0|       0|           0|            0|       null|        null|\n",
      "|  998|2021|    1| 31|   2|    45|     8|          0|        165|   1|    Ch 1|           0|            null|    5|  HGV_RIG|  11.1|   1.36|1.31| 69.0|   0.0|        0.0|       0|           0|            0|       null|        null|\n",
      "|  998|2021|    1| 31|   2|    45|     8|          0|        165|   2|    Ch 2|           0|            null|    2|      CAR|   5.2|   1.57|1.22| 69.0|   0.0|        0.0|       0|           0|            0|       null|        null|\n",
      "|  998|2021|    1| 31|   2|    45|     9|          0|        165|   1|    Ch 1|           0|            null|    2|      CAR|   5.2|   1.16|0.92| 70.0|   0.0|        0.0|       0|           0|            0|       null|        null|\n",
      "|  998|2021|    1| 31|   2|    45|    10|          0|        165|   2|    Ch 2|           0|            null|    5|  HGV_RIG|  11.5|   1.34|1.63| 71.0|   0.0|        0.0|       0|           0|            0|       null|        null|\n",
      "|  998|2021|    1| 31|   2|    45|    11|          0|        165|   1|    Ch 1|           0|            null|    5|  HGV_RIG|  11.1|   1.72|1.93| 69.0|   0.0|        0.0|       0|           0|            0|       null|        null|\n",
      "|  998|2021|    1| 31|   2|    45|    12|          0|        165|   2|    Ch 2|           0|            null|    2|      CAR|   5.2|   1.34|1.12| 71.0|   0.0|        0.0|       0|           0|            0|       null|        null|\n",
      "|  998|2021|    1| 31|   2|    45|    13|          0|        165|   1|    Ch 1|           0|            null|    2|      CAR|   5.1|   1.17|0.92| 69.0|   0.0|        0.0|       0|           0|            0|       null|        null|\n",
      "|  998|2021|    1| 31|   2|    45|    14|          0|        165|   1|    Ch 1|           0|            null|    2|      CAR|   5.1|   1.28|1.23| 69.0|   0.0|        0.0|       0|           0|            0|       null|        null|\n",
      "|  998|2021|    1| 31|   2|    45|    14|          0|        165|   2|    Ch 2|           0|            null|    5|  HGV_RIG|  11.3|   1.07|1.34| 69.0|   0.0|        0.0|       0|           0|            0|       null|        null|\n",
      "|  998|2021|    1| 31|   2|    45|    15|          0|        165|   1|    Ch 1|           0|            null|    2|      CAR|   5.1|   1.02|1.03| 69.0|   0.0|        0.0|       0|           0|            0|       null|        null|\n",
      "|  998|2021|    1| 31|   2|    45|    16|          0|        165|   2|    Ch 2|           0|            null|    5|  HGV_RIG|  11.5|   1.27|1.31| 71.0|   0.0|        0.0|       0|           0|            0|       null|        null|\n",
      "+-----+----+-----+---+----+------+------+-----------+-----------+----+--------+------------+----------------+-----+---------+------+-------+----+-----+------+-----------+--------+------------+-------------+-----------+------------+\n",
      "only showing top 20 rows\n",
      "\n"
     ]
    }
   ],
   "source": [
    "df.show()"
   ]
  },
  {
   "cell_type": "code",
   "execution_count": 7,
   "metadata": {},
   "outputs": [
    {
     "name": "stdout",
     "output_type": "stream",
     "text": [
      "+---------+------+--------------------+\n",
      "|classname| count| perc_of_count_total|\n",
      "+---------+------+--------------------+\n",
      "|      CAR|918254|   82.97585871619985|\n",
      "|  HGV_ART| 33805|    3.05470915879608|\n",
      "|      BUS| 10519|  0.9505246455073502|\n",
      "|  HGV_RIG| 30866|  2.7891333499600597|\n",
      "|     null|    50|0.004518132168016684|\n",
      "|  CARAVAN|  5887|  0.5319648814622845|\n",
      "|      LGV|104580|   9.450125242623697|\n",
      "|    MBIKE|  2691| 0.24316587328265796|\n",
      "+---------+------+--------------------+\n",
      "\n"
     ]
    }
   ],
   "source": [
    "\n",
    "#usage of Irish road network in terms of percentage grouped by vehicle category\n",
    "total = df.count() # Total count\n",
    "\n",
    "category_percentage = df.groupBy(\"classname\")\\\n",
    ".count()\\\n",
    ".withColumn('perc_of_count_total', (F.col('count') / total) * 100 )\\\n",
    ".show() "
   ]
  },
  {
   "cell_type": "code",
   "execution_count": 9,
   "metadata": {},
   "outputs": [
    {
     "name": "stdout",
     "output_type": "stream",
     "text": [
      "Lowest Hourly Flow =  Row(hour=3, count=585)\n",
      "Highest Hourly Flow =  Row(hour=15, count=18711)\n"
     ]
    }
   ],
   "source": [
    " \n",
    "#highest and lowest hourly fows on M50 - show the hours and total number of vehicle counts\n",
    "\n",
    "#M50 Junctions \n",
    "m50=[1013,1012,1500,1501,1502,1508,1503,1509,1504,1505,1506,1507,15010,15011,15012]\n",
    "\n",
    "#Hourly count in M50 Road \n",
    "groupedData = df.select('hour').filter(df.cosit.isin(m50)).groupBy('hour').count()\n",
    "\n",
    "#Ordering\n",
    "hourlyCount = groupedData.orderBy('count')\n",
    "\n",
    "#Lowest Hourly Flow\n",
    "\n",
    "MinHour = hourlyCount.first()\n",
    "print(\"Lowest Hourly Flow = \", MinHour) \n",
    "\n",
    "#Highest Hourly Flow\n",
    "\n",
    "MaxHour = groupedData.orderBy('count', ascending=False).first()\n",
    "print(\"Highest Hourly Flow = \" , MaxHour)\n",
    "\n"
   ]
  },
  {
   "cell_type": "code",
   "execution_count": 11,
   "metadata": {},
   "outputs": [
    {
     "name": "stdout",
     "output_type": "stream",
     "text": [
      "Morning Rush hour Counts\n",
      "+----+-----+\n",
      "|hour|count|\n",
      "+----+-----+\n",
      "|   6| 3944|\n",
      "|   7| 6500|\n",
      "|   8| 5530|\n",
      "|   9| 6641|\n",
      "|  10| 9088|\n",
      "|  11|11947|\n",
      "+----+-----+\n",
      "\n",
      "Evening Rush Hour Counts\n",
      "+----+-----+\n",
      "|hour|count|\n",
      "+----+-----+\n",
      "|  15|18711|\n",
      "|  16|17979|\n",
      "|  17|16060|\n",
      "|  18|12647|\n",
      "|  19|10877|\n",
      "|  20|10383|\n",
      "|  21| 7136|\n",
      "+----+-----+\n",
      "\n"
     ]
    }
   ],
   "source": [
    "\n",
    "# Morning = 6.00 - noon (12.00)\n",
    "#Evening = 15.00 - 21.00\n",
    "morningHours = [6,7,8,9,10,11]\n",
    "eveningHours = [15,16,17,18,19,20,21]\n",
    "hourlyCount = df.select('hour').filter(df.cosit.isin(m50)).groupBy('hour').count()\n",
    "\n",
    "print(\"Morning Rush hour Counts\")\n",
    "morningRushHourCount = hourlyCount.filter(hourlyCount.hour.isin(morningHours))\\\n",
    ".orderBy('hour')\\\n",
    ".show()\n",
    "\n",
    "print(\"Evening Rush Hour Counts\")\n",
    "eveningRushHourCount = hourlyCount.filter(hourlyCount.hour.isin(eveningHours))\\\n",
    ".orderBy('hour')\\\n",
    ".show()\n",
    "\n"
   ]
  },
  {
   "cell_type": "code",
   "execution_count": 13,
   "metadata": {},
   "outputs": [
    {
     "name": "stdout",
     "output_type": "stream",
     "text": [
      "+----------------+------------------+\n",
      "|       Junctions|        avg(speed)|\n",
      "+----------------+------------------+\n",
      "| Junction 1 -  2| 68.53492193919475|\n",
      "| Junction 2 -  3| 86.61353856338961|\n",
      "| Junction 3 -  4| 93.74959897337183|\n",
      "| Junction 4 -  5|101.33084897730457|\n",
      "| Junction 5 -  6|102.36304050088046|\n",
      "| Junction 6 -  7| 98.64505637467477|\n",
      "| Junction 7 -  9|102.18442775736273|\n",
      "| Junction 9 - 10| 98.35261039422281|\n",
      "|Junction 10 - 11|101.99216139028985|\n",
      "|Junction 11 - 12| 99.69152287044645|\n",
      "|Junction 12 - 13|102.79217719132893|\n",
      "|Junction 13 - 14|102.74182687085913|\n",
      "|Junction 14 - 15| 105.0165992764418|\n",
      "|Junction 15 - 16|101.79879709487064|\n",
      "|Junction 16 - 17|105.10443959243086|\n",
      "+----------------+------------------+\n",
      "\n"
     ]
    }
   ],
   "source": [
    "\n",
    "\n",
    "#average speed between each junction on M50\n",
    "columns= [\"cosits\",\"Junctions\" ,\"index\"]\n",
    "data = [(1013, \"Junction 1 -  2\" ,1), \n",
    "        (1012, \"Junction 2 -  3\",2),\n",
    "       (1500, \"Junction 3 -  4\",3),\n",
    "       (1501, \"Junction 4 -  5\",4),\n",
    "       (1502, \"Junction 5 -  6\",5),\n",
    "       (1508, \"Junction 6 -  7\",6),\n",
    "        (1503, \"Junction 7 -  9\",7),\n",
    "        (1509, \"Junction 9 - 10\",8),\n",
    "        (1504, \"Junction 10 - 11\",9),\n",
    "        (1505, \"Junction 11 - 12\",10),\n",
    "        (1506, \"Junction 12 - 13\",11),\n",
    "        (1507, \"Junction 13 - 14\",12),\n",
    "        (15010, \"Junction 14 - 15\",13),\n",
    "        (15011, \"Junction 15 - 16\",14),\n",
    "        (15012, \"Junction 16 - 17\",15)\n",
    "       ]\n",
    "rdd = spark.sparkContext.parallelize(data)\n",
    "cositdf = rdd.toDF(columns)\n",
    "\n",
    "#Average Speed in Cosit M50\n",
    "avgSpeed = df.select(\"speed\",\"cosit\").filter(df.cosit.isin(m50))\\\n",
    ".groupBy('cosit')\\\n",
    ".avg(\"speed\")\n",
    "\n",
    "joined = cositdf.join(avgSpeed,cositdf.cosits ==  avgSpeed.cosit,\"inner\")\n",
    "order = joined.orderBy(\"index\").select(\"Junctions\",\"avg(speed)\")\n",
    "order.show()"
   ]
  },
  {
   "cell_type": "code",
   "execution_count": 15,
   "metadata": {},
   "outputs": [
    {
     "name": "stdout",
     "output_type": "stream",
     "text": [
      "+-----+----------------+--------------------+-----+\n",
      "|cosit|        SiteName|         Description|count|\n",
      "+-----+----------------+--------------------+-----+\n",
      "|  998|             998|         Test site 2|22367|\n",
      "| 1508|TMU M50 015.0 S |M50 Between Jn06 ...| 1224|\n",
      "| 1502|TMU M50 010.0 N |M50 Between Jn06 ...| 1186|\n",
      "| 1503| TMU M50 020.0 N|M50 Between Jn07 ...|  962|\n",
      "| 1501| TMU M50 005.0 N|M50 Between Jn05 ...|  923|\n",
      "| 1070| TMU N07 001.0 E|N07 Between Jn01 ...|  881|\n",
      "| 1071| TMU N07 005.0 E|N07 Between Jn02 ...|  827|\n",
      "| 1073|       N07 E06.5|N7 Eastbound city...|  820|\n",
      "|20071| TMU N07 020.0 E|N07 Between Jn07 ...|  797|\n",
      "| 1072| TMU N07 000.0 W|N07 Between Jn01a...|  774|\n",
      "+-----+----------------+--------------------+-----+\n",
      "\n"
     ]
    }
   ],
   "source": [
    "\n",
    "#top 10 locations with highest number of counts of HGVs (class)\n",
    "\n",
    "HGVcount = df.select('cosit','classname').filter(df.classname.like(\"HGV%\")).groupBy('cosit').count()\n",
    "\n",
    "#Reading Cosit date\n",
    "\n",
    "cositdf = spark.read.csv(\"hdfs://master-node:9000/assignment/cosit_data.csv\")\n",
    "#Heighest # of SVG result joining with cositDF \n",
    "\n",
    "cositdata = HGVcount.join(cositdf,HGVcount.cosit ==  cositdf._c1,\"inner\")\\\n",
    ".orderBy('count',ascending=False)\\\n",
    ".limit(10)\n",
    "\n",
    "#data.select(col(\"Name\").alias(\"name\"), col(\"askdaosdka\").alias(\"age\"))\n",
    "cositdata.select(col(\"cosit\"), col(\"_c2\").alias(\"SiteName\"), col(\"_c3\").alias(\"Description\"),col(\"count\"))\\\n",
    ".show()"
   ]
  }
 ],
 "metadata": {
  "kernelspec": {
   "display_name": "Anaconda (pyspark)",
   "language": "python",
   "name": "anaconda-pysparkenv"
  },
  "language_info": {
   "codemirror_mode": {
    "name": "ipython",
    "version": 3
   },
   "file_extension": ".py",
   "mimetype": "text/x-python",
   "name": "python",
   "nbconvert_exporter": "python",
   "pygments_lexer": "ipython3",
   "version": "3.8.8"
  }
 },
 "nbformat": 4,
 "nbformat_minor": 4
}
